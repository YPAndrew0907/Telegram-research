{
 "nbformat": 4,
 "nbformat_minor": 0,
 "metadata": {
  "colab": {
   "provenance": [],
   "machine_shape": "hm"
  },
  "kernelspec": {
   "name": "python3",
   "display_name": "Python 3"
  },
  "language_info": {
   "name": "python"
  }
 },
 "cells": [
  {
   "cell_type": "code",
   "execution_count": null,
   "metadata": {
    "colab": {
     "base_uri": "https://localhost:8080/"
    },
    "id": "hBowC3JUyXcy",
    "outputId": "edb3d59c-4515-42e5-ae64-83fd081e2fd0"
   },
   "outputs": [
    {
     "output_type": "stream",
     "name": "stdout",
     "text": [
      "Requirement already satisfied: telethon in /usr/local/lib/python3.11/dist-packages (1.40.0)\n",
      "Requirement already satisfied: pandas in /usr/local/lib/python3.11/dist-packages (2.2.2)\n",
      "Requirement already satisfied: requests in /usr/local/lib/python3.11/dist-packages (2.32.3)\n",
      "Requirement already satisfied: langdetect in /usr/local/lib/python3.11/dist-packages (1.0.9)\n",
      "Requirement already satisfied: pyaes in /usr/local/lib/python3.11/dist-packages (from telethon) (1.6.1)\n",
      "Requirement already satisfied: rsa in /usr/local/lib/python3.11/dist-packages (from telethon) (4.9.1)\n",
      "Requirement already satisfied: numpy>=1.23.2 in /usr/local/lib/python3.11/dist-packages (from pandas) (2.0.2)\n",
      "Requirement already satisfied: python-dateutil>=2.8.2 in /usr/local/lib/python3.11/dist-packages (from pandas) (2.9.0.post0)\n",
      "Requirement already satisfied: pytz>=2020.1 in /usr/local/lib/python3.11/dist-packages (from pandas) (2025.2)\n",
      "Requirement already satisfied: tzdata>=2022.7 in /usr/local/lib/python3.11/dist-packages (from pandas) (2025.2)\n",
      "Requirement already satisfied: charset-normalizer<4,>=2 in /usr/local/lib/python3.11/dist-packages (from requests) (3.4.1)\n",
      "Requirement already satisfied: idna<4,>=2.5 in /usr/local/lib/python3.11/dist-packages (from requests) (3.10)\n",
      "Requirement already satisfied: urllib3<3,>=1.21.1 in /usr/local/lib/python3.11/dist-packages (from requests) (2.4.0)\n",
      "Requirement already satisfied: certifi>=2017.4.17 in /usr/local/lib/python3.11/dist-packages (from requests) (2025.4.26)\n",
      "Requirement already satisfied: six in /usr/local/lib/python3.11/dist-packages (from langdetect) (1.17.0)\n",
      "Requirement already satisfied: pyasn1>=0.1.3 in /usr/local/lib/python3.11/dist-packages (from rsa->telethon) (0.6.1)\n"
     ]
    }
   ],
   "source": [
    "pip install telethon pandas requests langdetect\n"
   ]
  },
  {
   "cell_type": "code",
   "source": [
    "pip install python-dotenv"
   ],
   "metadata": {
    "colab": {
     "base_uri": "https://localhost:8080/"
    },
    "id": "FMPetDnuEL_a",
    "outputId": "bb13a890-d08c-4ba5-bcdc-9c2cd5ed6344"
   },
   "execution_count": null,
   "outputs": [
    {
     "output_type": "stream",
     "name": "stdout",
     "text": [
      "Requirement already satisfied: python-dotenv in /usr/local/lib/python3.11/dist-packages (1.1.0)\n"
     ]
    }
   ]
  },
  {
   "cell_type": "code",
   "source": [
    "pip install nest_asyncio"
   ],
   "metadata": {
    "colab": {
     "base_uri": "https://localhost:8080/"
    },
    "id": "VFIAy13PHt80",
    "outputId": "41d84001-1d7e-4a59-ab43-a68e3f86f5b7"
   },
   "execution_count": null,
   "outputs": [
    {
     "output_type": "stream",
     "name": "stdout",
     "text": [
      "Requirement already satisfied: nest_asyncio in /usr/local/lib/python3.11/dist-packages (1.6.0)\n"
     ]
    }
   ]
  },
  {
   "cell_type": "code",
   "source": [
    "import nest_asyncio\n",
    "nest_asyncio.apply()"
   ],
   "metadata": {
    "id": "QXdS3FUDHvyt"
   },
   "execution_count": null,
   "outputs": []
  },
  {
   "cell_type": "code",
   "source": [
    "try:\n",
    "    from google.colab import drive\n",
    "    drive.mount('/content/drive', force_remount=True)\n",
    "except ModuleNotFoundError:\n",
    "    pass\n"
   ],
   "metadata": {
    "colab": {
     "base_uri": "https://localhost:8080/"
    },
    "id": "rRnvbW8UdykJ",
    "outputId": "f192320a-f469-4640-b498-8b16e23a1324"
   },
   "execution_count": null,
   "outputs": [
    {
     "output_type": "stream",
     "name": "stdout",
     "text": [
      "Mounted at /content/drive\n"
     ]
    }
   ]
  },
  {
   "cell_type": "code",
   "source": [
    "import os, json, csv, time, re\n",
    "import asyncio, requests, pandas as pd\n",
    "from pathlib import Path\n",
    "from dotenv import load_dotenv\n",
    "from urllib.parse import urlparse\n",
    "from langdetect import detect, DetectorFactory\n",
    "DetectorFactory.seed=0",
    "load_dotenv()\n"
   ],
   "metadata": {
    "id": "Cf2Q2pXXC4ZM"
   },
   "execution_count": null,
   "outputs": []
  },
  {
   "cell_type": "code",
   "source": [
    "from telethon import TelegramClient, errors\n",
    "from telethon.tl.functions.channels import JoinChannelRequest\n"
   ],
   "metadata": {
    "id": "oGRmc41x_UlG"
   },
   "execution_count": null,
   "outputs": []
  },
  {
   "cell_type": "code",
   "source": [
    "from telethon.sync import TelegramClient\n",
    "from getpass import getpass"
   ],
   "metadata": {
    "id": "OMcGFBPF_UoF"
   },
   "execution_count": null,
   "outputs": []
  },
  {
   "cell_type": "code",
   "source": [
    "# expects API_ID, API_HASH, and PHONE in the environment\n",
    "API_ID = os.getenv(\"API_ID\")\n",
    "API_HASH = os.getenv(\"API_HASH\")\n",
    "PHONE = os.getenv(\"PHONE\")\n",
    "if not all([API_ID, API_HASH, PHONE]):\n",
    "    raise RuntimeError(\"API_ID, API_HASH and PHONE environment variables must be set\")\n"
   ],
   "metadata": {
    "id": "_MchyQTGC8IQ"
   },
   "execution_count": null,
   "outputs": []
  },
  {
   "cell_type": "code",
   "source": [
    "PROGRESS_JSON = os.getenv('PROGRESS_JSON', '/content/drive/MyDrive/telegram/progress.json')\n",
    "RAW_CSV = os.getenv('RAW_CSV', '/content/drive/MyDrive/telegram/messages.csv')\n",
    "CLEAN_CSV = os.getenv('CLEAN_CSV', '/content/drive/MyDrive/telegram/cleaned.csv')\n",
    "SESSION_NAME = os.getenv('SESSION_NAME', 'tg_session')"
   ],
   "metadata": {
    "id": "ykINbo9OxNpF"
   },
   "execution_count": null,
   "outputs": []
  },
  {
   "cell_type": "code",
   "source": [
    "BFS_HOPS         = 2     # how many BFS layers\n",
    "BFS_PER_CH_LIMIT = 400   # how many msgs to scan for forwards each discovered channel\n",
    "BFS_MIN_SUBS     = 500   # subscriber threshold\n",
    "BFS_LANG_SAMPLE  = 15    # how many msgs we sample for English\n",
    "BFS_EN_RATIO     = 0.5   # 50% must be English"
   ],
   "metadata": {
    "id": "YYpOd88Gv4Mg"
   },
   "execution_count": null,
   "outputs": []
  },
  {
   "cell_type": "code",
   "source": [
    "channels_df = pd.read_csv('telegram_misinformation_channels_full.csv')\n",
    "def _parse_subs(s):\n",
    "    s = str(s).replace('+', '').strip()\n",
    "    mult = 1\n",
    "    if s.lower().endswith('k'):\n",
    "        mult = 1000\n",
    "        s = s[:-1]\n",
    "    elif s.lower().endswith('m'):\n",
    "        mult = 1000000\n",
    "        s = s[:-1]\n",
    "    try:\n",
    "        return int(float(s) * mult)\n",
    "    except ValueError:\n",
    "        return 0\n",
    "channels_df['subs_num'] = channels_df['Subscribers'].apply(_parse_subs)\n",
    "seed_usernames = channels_df['Username'].tolist()\n",
    "FOLLOWERS_DICT = channels_df.set_index('Username')['subs_num'].to_dict()"
   ],
   "metadata": {
    "id": "ba2Vaw21xPEj"
   },
   "execution_count": null,
   "outputs": []
  },
  {
   "cell_type": "code",
   "source": [
    "CHANNELS = seed_usernames"
   ],
   "metadata": {
    "id": "zIi_m0JbdyX5"
   },
   "execution_count": null,
   "outputs": []
  },
  {
   "cell_type": "code",
   "source": [
    "client=TelegramClient(SESSION_NAME,API_ID,API_HASH)\n",
    "def load_progress():\n",
    "  if os.path.exists(PROGRESS_JSON):\n",
    "    with open(PROGRESS_JSON,'r')as f:return json.load(f)\n",
    "  return {}\n"
   ],
   "metadata": {
    "id": "Bdu3oFp__UrI"
   },
   "execution_count": null,
   "outputs": []
  },
  {
   "cell_type": "code",
   "source": [
    "def save_progress(d):\n",
    "  os.makedirs(os.path.dirname(PROGRESS_JSON),exist_ok=True)\n",
    "  with open(PROGRESS_JSON,'w')as f:json.dump(d,f)\n",
    "  print(\"Progress saved.\")\n"
   ],
   "metadata": {
    "id": "XlaWF6Z0AY6-"
   },
   "execution_count": null,
   "outputs": []
  },
  {
   "cell_type": "code",
   "source": [
    "def append_header_if_needed():\n",
    "  ex=os.path.exists(RAW_CSV)\n",
    "  os.makedirs(os.path.dirname(RAW_CSV),exist_ok=True)\n",
    "  if not ex:\n",
    "    with open(RAW_CSV,'w',newline='',encoding='utf-8')as f:\n",
    "      csv.writer(f).writerow(['channel','msg_id','date','text','fwd_from','fwd_id'])\n"
   ],
   "metadata": {
    "id": "4nOQuxbgAY8k"
   },
   "execution_count": null,
   "outputs": []
  },
  {
   "cell_type": "code",
   "source": [
    "async def join_if_needed(ent):\n",
    "  if getattr(ent,'megagroup',False):\n",
    "    try:await client(JoinChannelRequest(ent))\n",
    "    except:pass\n"
   ],
   "metadata": {
    "id": "HoqHVl86E-_U"
   },
   "execution_count": null,
   "outputs": []
  },
  {
   "cell_type": "code",
   "source": [
    "async def scrape_channel(name,last_id):\n",
    "  try:ent=await client.get_entity(name)\n",
    "  except Exception as e:print(\"Skip\",name,e);return last_id\n",
    "  await join_if_needed(ent);mx=last_id;cnt=0\n",
    "  async for msg in client.iter_messages(ent,min_id=last_id,reverse=False):\n",
    "    cnt+=1;mx=max(mx,msg.id);fw,fwid=None,None\n",
    "    if msg.forward:\n",
    "      if msg.forward.chat:fw=msg.forward.chat.title or msg.forward.chat.username;fwid=getattr(msg.forward.chat,'id',None)\n",
    "      elif msg.forward.sender:fw=msg.forward.sender.first_name or msg.forward.sender.username or'Private';fwid=getattr(msg.forward.sender,'id',None)\n",
    "    with open(RAW_CSV,'a',newline='',encoding='utf-8')as f:\n",
    "      csv.writer(f).writerow([name,msg.id,msg.date,msg.text or'',fw,fwid])\n",
    "  print(name,\"+%d msgs\"%cnt,\"up to\",mx);return mx\n"
   ],
   "metadata": {
    "id": "5pQiuvbeE_Ax"
   },
   "execution_count": null,
   "outputs": []
  },
  {
   "cell_type": "code",
   "source": [
    "def run_scrape():\n",
    "  asyncio.run(scrape_once())\n",
    "  print(\"Scraping done.\")\n"
   ],
   "metadata": {
    "id": "Fk_TBzdwE_G9"
   },
   "execution_count": null,
   "outputs": []
  },
  {
   "cell_type": "code",
   "source": [
    "def deduplicate(messages):\n",
    "  out=[];seen=set()\n",
    "  for m in messages:\n",
    "    k=(m.get('fwd_id'),m.get('text'))\n",
    "    if m.get('fwd_id'):\n",
    "      if k in seen:continue\n",
    "      seen.add(k)\n",
    "    out.append(m)\n",
    "  return out\n"
   ],
   "metadata": {
    "id": "EWBJBeXIE_Jy"
   },
   "execution_count": null,
   "outputs": []
  },
  {
   "cell_type": "code",
   "source": [
    "def unshorten_url(u,t=5):\n",
    "  try:return requests.head(u,allow_redirects=True,timeout=t).url\n",
    "  except:return u\n"
   ],
   "metadata": {
    "id": "s2kMEf60E_MH"
   },
   "execution_count": null,
   "outputs": []
  },
  {
   "cell_type": "code",
   "source": [
    "def expand_and_extract(m):\n",
    "  txt=m['text'];urls=re.findall(r'https?://\\S+',txt)\n",
    "  dom=set()\n",
    "  for u in urls:\n",
    "    fin=unshorten_url(u);d=urlparse(fin).netloc\n",
    "    dom.add(d)\n",
    "    txt=txt.replace(u,fin)\n",
    "  m['text']=txt;m['domains']=list(dom);return m\n"
   ],
   "metadata": {
    "id": "5S7R0ES3E_O1"
   },
   "execution_count": null,
   "outputs": []
  },
  {
   "cell_type": "code",
   "source": [
    "def is_english(txt):\n",
    "  if not txt.strip():return False\n",
    "  try:return(detect(txt)=='en')\n",
    "  except:return False\n"
   ],
   "metadata": {
    "id": "aFUAEBWiE_TT"
   },
   "execution_count": null,
   "outputs": []
  },
  {
   "cell_type": "code",
   "source": [
    "def anonymize(m,user_map):\n",
    "  if m.get('fwd_id')and m['fwd_from']and not str(m['fwd_from']).startswith(('Channel','@')):\n",
    "    if m['fwd_id'] not in user_map:user_map[m['fwd_id']]=f\"User{len(user_map)+1}\"\n",
    "    m['fwd_from']=user_map[m['fwd_id']];m['fwd_id']=None\n",
    "  m['text']=re.sub(r'@[\\w\\d_]+','@USER',m['text'])\n",
    "  return m\n"
   ],
   "metadata": {
    "id": "xvy8iJ-HE_Vn"
   },
   "execution_count": null,
   "outputs": []
  },
  {
   "cell_type": "code",
   "source": [
    "def preprocess_data():\n",
    "  if not os.path.exists(RAW_CSV):print(\"No raw CSV.\");return\n",
    "  df=pd.read_csv(RAW_CSV,names=['chan','msg_id','date','text','fwd_from','fwd_id'],header=0)\n",
    "  msgs=df.to_dict('records');msgs=deduplicate(msgs)\n",
    "  out=[];umap={}\n",
    "  for m in msgs:\n",
    "    m=expand_and_extract(m)\n",
    "    if is_english(m['text']):m=anonymize(m,umap);out.append(m)\n",
    "  pd.DataFrame(out).to_csv(CLEAN_CSV,index=False)\n",
    "  print(f\"Saved {len(out)} cleaned msgs to {CLEAN_CSV}\")\n"
   ],
   "metadata": {
    "id": "XuQE2tRRFPeo"
   },
   "execution_count": null,
   "outputs": []
  },
  {
   "cell_type": "code",
   "source": [
    "# Load existing progress data and merge new seeds\n",
    "progress = load_progress()\n",
    "for username in seed_usernames:\n",
    "    if username not in progress:\n",
    "        progress[username] = 0  # mark as not yet scraped\n"
   ],
   "metadata": {
    "id": "Ir_L4HSPdya5"
   },
   "execution_count": null,
   "outputs": []
  },
  {
   "cell_type": "code",
   "source": [
    "# Persist updated progress\n",
    "save_progress(progress)"
   ],
   "metadata": {
    "id": "qocb8QV2dyg3"
   },
   "execution_count": null,
   "outputs": []
  },
  {
   "cell_type": "code",
   "source": [
    "from langdetect import detect\n",
    "async def _en_ratio(ent, sample=BFS_LANG_SAMPLE):\n",
    "    en = 0\n",
    "    async for m in client.iter_messages(ent, limit=sample):\n",
    "        t = (m.message or '').strip()\n",
    "        if t:\n",
    "            try:  en += detect(t)=='en'\n",
    "            except: pass\n",
    "    return 0 if not sample else en/sample\n"
   ],
   "metadata": {
    "id": "h8KS4Vdgv4Pu"
   },
   "execution_count": null,
   "outputs": []
  },
  {
   "cell_type": "code",
   "source": [
    "from telethon.tl.types import PeerChannel\n",
    "async def _forward_sources(ent, limit=BFS_PER_CH_LIMIT):\n",
    "    src = set()\n",
    "    async for m in client.iter_messages(ent, limit=limit):\n",
    "        fwd = m.forward\n",
    "        if not fwd: continue\n",
    "        pc  = fwd.chat or fwd.original_fwd\n",
    "        if isinstance(pc, PeerChannel): src.add(pc.channel_id)\n",
    "    return src\n"
   ],
   "metadata": {
    "id": "d5gZoB5XwXYm"
   },
   "execution_count": null,
   "outputs": []
  },
  {
   "cell_type": "code",
   "source": [
    "async def _is_valid(ent):\n",
    "    \"\"\"\n",
    "    Check if a Telegram entity meets minimum subscriber and English-ratio criteria.\n",
    "    It uses CSV's `Subscribers` column as the primary subscriber count.\n",
    "    \"\"\"\n",
    "    username = (getattr(ent, 'username', '') or '').strip()\n",
    "\n",
    "    # Fetch subscriber count directly from CSV, defaulting to 0 if not found\n",
    "    count = FOLLOWERS_DICT.get(username, 0)\n",
    "\n",
    "    if count < BFS_MIN_SUBS:\n",
    "        return False\n",
    "\n",
    "    # Check English language ratio\n",
    "    try:\n",
    "        return (await _en_ratio(ent)) >= BFS_EN_RATIO\n",
    "    except Exception:\n",
    "        return False\n"
   ],
   "metadata": {
    "id": "eFK9klEFwXbm",
    "colab": {
     "base_uri": "https://localhost:8080/",
     "height": 228
    },
    "outputId": "f6a4f455-e91c-4f60-9956-8dd45ba63c5f"
   },
   "execution_count": null,
   "outputs": []
  },
  {
   "cell_type": "code",
   "source": [
    "async def snowball_discovery():\n",
    "    global CHANNELS\n",
    "    prog, seeds = load_progress(), [c.lstrip('@') for c in CHANNELS]\n",
    "    frontier, visited, validated = set(seeds), set(seeds), []\n",
    "\n",
    "    for hop in range(1, BFS_HOPS+1):\n",
    "        nxt = set()\n",
    "        print(f'\u00b7 hop {hop}  frontier={len(frontier)}')\n",
    "        for h in list(frontier):\n",
    "            try: ent = await client.get_entity(h)\n",
    "            except: continue\n",
    "            if not await _is_valid(ent): continue\n",
    "            validated.append(h)\n",
    "            for cid in await _forward_sources(ent):\n",
    "                try:\n",
    "                    e = await client.get_entity(PeerChannel(cid))\n",
    "                    if e.username and e.username not in visited:\n",
    "                        visited.add(e.username); nxt.add(e.username)\n",
    "                except: pass\n",
    "        frontier = nxt\n",
    "    for v in validated:\n",
    "        if v not in prog: prog[v] = 0\n",
    "    save_progress(prog)\n",
    "    globals()['CHANNELS'] = list(set(CHANNELS)|set(prog))\n",
    "    print('validated:',len(validated),' | total CHANNELS:',len(CHANNELS))\n"
   ],
   "metadata": {
    "id": "wjHw18VOwXeS"
   },
   "execution_count": null,
   "outputs": []
  },
  {
   "cell_type": "code",
   "source": [
    "async def scrape_once():\n",
    "    await client.start(phone=PHONE)\n",
    "    await snowball_discovery()          # \u2460  discover / merge\n",
    "    last = load_progress(); append_header_if_needed()\n",
    "    for c in CHANNELS:\n",
    "        last[c] = await scrape_channel(c, last.get(c,0))\n",
    "    save_progress(last); await client.disconnect()\n"
   ],
   "metadata": {
    "id": "zOHfC_v0wXg5"
   },
   "execution_count": null,
   "outputs": []
  },
  {
   "cell_type": "code",
   "source": [
    "def main():\n",
    "  run_scrape()\n",
    "  preprocess_data()\n",
    "  print(\"Done.\")\n"
   ],
   "metadata": {
    "id": "Ly3Z1jugFPhg"
   },
   "execution_count": null,
   "outputs": []
  },
  {
   "cell_type": "code",
   "source": [],
   "metadata": {
    "id": "7dYlGjV_INa4"
   },
   "execution_count": null,
   "outputs": []
  },
  {
   "cell_type": "code",
   "source": [
    "# main()"
   ],
   "metadata": {
    "id": "OGndW8SXFPkE"
   },
   "execution_count": null,
   "outputs": []
  }
 ]
}